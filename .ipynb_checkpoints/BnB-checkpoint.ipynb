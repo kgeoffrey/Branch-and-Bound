{
 "cells": [
  {
   "cell_type": "code",
   "execution_count": 1,
   "metadata": {},
   "outputs": [],
   "source": [
    "##Brute-Force, Exhaustive Search and Branch&Bound!\n",
    "\n",
    "import pandas as pd\n",
    "import statsmodels.formula.api as smf\n",
    "import numpy as np\n",
    "import scipy.stats\n",
    "from scipy.stats import norm\n",
    "from sklearn.linear_model import LinearRegression  \n",
    "import itertools\n",
    "import copy\n",
    "\n",
    "data = pd.read_csv(\"/Users/geoffreykasenbacher/Desktop/projects/branch and bound/Branch-and-Bound/dataset.csv\",sep=\";\").astype(float)"
   ]
  },
  {
   "cell_type": "code",
   "execution_count": 38,
   "metadata": {},
   "outputs": [],
   "source": [
    "## Get Data as a Pandas Dataframe! Make sure to have numerical data only! (pd.get_dummies might help)\n",
    "\n",
    "file =\"/Users/geoffreykasenbacher/Desktop/projects/branch and bound/Branch-and-Bound/dataset.csv\"\n",
    "\n",
    "data = pd.read_csv(file,sep=\";\").astype(float)\n",
    "\n",
    "Y = list(data)[0]\n",
    "X = list(data)[1:]\n",
    "\n"
   ]
  },
  {
   "cell_type": "code",
   "execution_count": 39,
   "metadata": {},
   "outputs": [],
   "source": [
    "## exhaustive search - Brute Force. create class here\n",
    "\n",
    "class BruteForce: \n",
    "    \n",
    "    def __init__(self, Y, X, data):\n",
    "        self.Y = Y\n",
    "        self.X = X\n",
    "        self.data = data\n",
    "   \n",
    "    def powerset(self, X):\n",
    "        target = []\n",
    "        def combinations(target,X):\n",
    "            for i in range(len(X)):\n",
    "                new_target = copy.copy(target)\n",
    "                new_data = copy.copy(X)\n",
    "                new_target.append(X[i])\n",
    "                new_data = X[i+1:]\n",
    "                pp.append(new_target)\n",
    "                #print(new_target)\n",
    "                combinations(new_target,new_data)\n",
    "        pp = []\n",
    "        combinations(target, X)\n",
    "        return pp\n",
    "    \n",
    "    def regress(self, X, Y, data):\n",
    "        regressor = LinearRegression()\n",
    "        R = regressor.fit(data[X],data[Y])  \n",
    "        s = regressor.score(data[X], data[Y])\n",
    "        return (s) \n",
    "    \n",
    "    def search(self):\n",
    "        solutions = []\n",
    "        combos = self.powerset(self.X)\n",
    "        for i in combos:\n",
    "            solutions.append(self.regress(i, self.Y, self.data))  \n",
    "        return solutions, combos\n",
    "    \n",
    "    def solve(self):\n",
    "        sol, combos = self.search()\n",
    "        highest_R2 = combos[np.argmax(sol)]\n",
    "        R2 = max(sol)\n",
    "        \n",
    "        print(\"higehst R^2 is\", R2, \"with dependant variables:\", highest_R2)\n",
    "        return highest_R2\n",
    "        \n",
    "                 "
   ]
  },
  {
   "cell_type": "code",
   "execution_count": 43,
   "metadata": {},
   "outputs": [
    {
     "name": "stdout",
     "output_type": "stream",
     "text": [
      "higehst R^2 is 0.032779569202025516 with dependant variables: ['SEX', 'INCOME', 'EDUCATION', 'AGE', 'LOCATION']\n"
     ]
    }
   ],
   "source": [
    "t = BruteForce(Y,X,data).solve()\n"
   ]
  },
  {
   "cell_type": "code",
   "execution_count": 64,
   "metadata": {},
   "outputs": [],
   "source": [
    "## this will solve all possible linear regressions and return the one with highest R^2\n",
    "\n",
    "class exhaustivesearch: \n",
    "    \n",
    "    def __init__(self, data):\n",
    "        self.data = data\n",
    "        \n",
    "    def assign(self):\n",
    "        XX = list(self.data)\n",
    "        dic = {}\n",
    "        \n",
    "        for i in XX:\n",
    "            Y = i\n",
    "            X = self.powerset([x for x in XX if x != Y])\n",
    "            dic[Y] = X\n",
    "        return dic\n",
    "\n",
    "    def powerset(self, X):\n",
    "        target = []\n",
    "        def combinations(target,X):\n",
    "            for i in range(len(X)):\n",
    "                new_target = copy.copy(target)\n",
    "                new_data = copy.copy(X)\n",
    "                new_target.append(X[i])\n",
    "                new_data = X[i+1:]\n",
    "                pp.append(new_target)\n",
    "                combinations(new_target,new_data)\n",
    "        pp = []\n",
    "        combinations(target, X)\n",
    "        return pp\n",
    "    \n",
    "    def regress(self, X, Y, data):\n",
    "        regressor = LinearRegression()\n",
    "        R = regressor.fit(self.data[X],self.data[Y])  \n",
    "        s = regressor.score(self.data[X], self.data[Y])\n",
    "        return (s) \n",
    "    \n",
    "    def search(self):\n",
    "        dic = self.assign()\n",
    "        newdic = {}\n",
    "        for y in dic:\n",
    "            for x in dic[y]:\n",
    "                newdic[self.regress(x, y, data)] = y, x\n",
    "        new={}\n",
    "        sd = sorted(newdic.items(), reverse=True)\n",
    "        for k,v in sd:\n",
    "            new[k] = v\n",
    "        return new\n",
    "\n",
    "    def solve(self):\n",
    "        results = self.search()\n",
    "        highest_R2 = list(results.keys())[0]\n",
    "        best_vars = results[highest_R2]\n",
    "        \n",
    "        print(\"higehst R^2 is\", highest_R2, \"with dependant/indepedant variables:\", best_vars)\n",
    "        return highest_R2"
   ]
  },
  {
   "cell_type": "code",
   "execution_count": 65,
   "metadata": {},
   "outputs": [
    {
     "name": "stdout",
     "output_type": "stream",
     "text": [
      "higehst R^2 is 0.2968502113618645 with dependant/indepedant variables: ('INCOME', ['VIOLENCE', 'SEX', 'EDUCATION', 'AGE', 'LOCATION'])\n"
     ]
    }
   ],
   "source": [
    "wow = exhaustivesearch(data).solve()"
   ]
  },
  {
   "cell_type": "code",
   "execution_count": 68,
   "metadata": {},
   "outputs": [],
   "source": [
    "f = \"/Users/geoffreykasenbacher/Downloads/bank/bank.csv\"\n",
    "test = pd.read_csv(f,sep=\";\") #.astype(float)\n",
    "test1 = pd.get_dummies(test)\n",
    "\n",
    "test2 = test1[list(test1)[:3]]\n",
    "\n",
    "Y = list(data)[0]\n",
    "X = list(data)[1:]\n"
   ]
  },
  {
   "cell_type": "code",
   "execution_count": 69,
   "metadata": {},
   "outputs": [
    {
     "name": "stdout",
     "output_type": "stream",
     "text": [
      "higehst R^2 is 0.007319114927034076 with dependant/indepedant variables: ('age', ['balance', 'day'])\n"
     ]
    }
   ],
   "source": [
    "so = exhaustivesearch(test2).solve()"
   ]
  }
 ],
 "metadata": {
  "kernelspec": {
   "display_name": "Python 3",
   "language": "python",
   "name": "python3"
  },
  "language_info": {
   "codemirror_mode": {
    "name": "ipython",
    "version": 3
   },
   "file_extension": ".py",
   "mimetype": "text/x-python",
   "name": "python",
   "nbconvert_exporter": "python",
   "pygments_lexer": "ipython3",
   "version": "3.6.4"
  }
 },
 "nbformat": 4,
 "nbformat_minor": 2
}

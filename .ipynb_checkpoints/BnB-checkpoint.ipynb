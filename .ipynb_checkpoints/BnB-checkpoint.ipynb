{
 "cells": [
  {
   "cell_type": "code",
   "execution_count": 1,
   "metadata": {},
   "outputs": [],
   "source": [
    "##Branch and Bound!\n",
    "\n",
    "import pandas as pd\n",
    "import statsmodels.formula.api as smf\n",
    "import numpy as np\n",
    "import scipy.stats\n",
    "from scipy.stats import norm\n",
    "from sklearn.linear_model import LinearRegression  \n",
    "import itertools\n",
    "import copy\n",
    "\n",
    "\n",
    "data = pd.read_csv(\"C:/Users/Praktikant1/Desktop/Projekte/Branch and Bound/Branch-and-Bound/dataset.csv\",sep=\";\").astype(float)"
   ]
  },
  {
   "cell_type": "code",
   "execution_count": 2,
   "metadata": {},
   "outputs": [],
   "source": [
    "#variables and speficicatons\n",
    "\n",
    "headers = list(data)\n",
    "Y = headers[0]\n",
    "X = headers[1:]"
   ]
  },
  {
   "cell_type": "code",
   "execution_count": 3,
   "metadata": {},
   "outputs": [
    {
     "name": "stdout",
     "output_type": "stream",
     "text": [
      "0.032779569202025516\n"
     ]
    }
   ],
   "source": [
    "regressor = LinearRegression()  \n",
    "\n",
    "R = regressor.fit(data[X],data[Y])  \n",
    "s = regressor.score(data[X], data[Y]) \n",
    "\n",
    "#prints mean squared error\n",
    "print(s)"
   ]
  },
  {
   "cell_type": "code",
   "execution_count": null,
   "metadata": {},
   "outputs": [],
   "source": [
    "## exhaustive search? create class here\n",
    "\n",
    "class bbalgorithm: \n",
    "    \n",
    "    \"\"\"\n",
    "     def __init__(self, dependant, indepedant):\n",
    "        self.depedant = dependant\n",
    "        self.indepedant = independat\n",
    "    \n",
    "    \"\"\"\n",
    "    def combine():\n",
    "        \n",
    "    \n",
    "    def branch():\n",
    "        \n",
    "        pass\n",
    "    \n",
    "    def bound():\n",
    "        \n",
    "        pass\n",
    "    \n"
   ]
  },
  {
   "cell_type": "code",
   "execution_count": 8,
   "metadata": {},
   "outputs": [],
   "source": [
    "## This function generates all possible combinations of the list!\n",
    "\n",
    "def powerset(data):\n",
    "    target = []\n",
    "    \n",
    "    def combinations(target,data):\n",
    "        for i in range(len(data)):\n",
    "            new_target = copy.copy(target)\n",
    "            new_data = copy.copy(data)\n",
    "            new_target.append(data[i])\n",
    "            new_data = data[i+1:]\n",
    "            pp.append(new_target)\n",
    "            #print(new_target)\n",
    "            combinations(new_target,new_data)\n",
    "    pp = []\n",
    "    rrr = [combinations(target, X)]\n",
    "    return pp\n"
   ]
  },
  {
   "cell_type": "code",
   "execution_count": 9,
   "metadata": {},
   "outputs": [],
   "source": [
    "result = powerset(X)"
   ]
  },
  {
   "cell_type": "code",
   "execution_count": 13,
   "metadata": {},
   "outputs": [
    {
     "name": "stdout",
     "output_type": "stream",
     "text": [
      "[['SEX'], ['SEX', 'INCOME'], ['SEX', 'INCOME', 'EDUCATION'], ['SEX', 'INCOME', 'EDUCATION', 'AGE'], ['SEX', 'INCOME', 'EDUCATION', 'AGE', 'LOCATION'], ['SEX', 'INCOME', 'EDUCATION', 'LOCATION'], ['SEX', 'INCOME', 'AGE'], ['SEX', 'INCOME', 'AGE', 'LOCATION'], ['SEX', 'INCOME', 'LOCATION'], ['SEX', 'EDUCATION'], ['SEX', 'EDUCATION', 'AGE'], ['SEX', 'EDUCATION', 'AGE', 'LOCATION'], ['SEX', 'EDUCATION', 'LOCATION'], ['SEX', 'AGE'], ['SEX', 'AGE', 'LOCATION'], ['SEX', 'LOCATION'], ['INCOME'], ['INCOME', 'EDUCATION'], ['INCOME', 'EDUCATION', 'AGE'], ['INCOME', 'EDUCATION', 'AGE', 'LOCATION'], ['INCOME', 'EDUCATION', 'LOCATION'], ['INCOME', 'AGE'], ['INCOME', 'AGE', 'LOCATION'], ['INCOME', 'LOCATION'], ['EDUCATION'], ['EDUCATION', 'AGE'], ['EDUCATION', 'AGE', 'LOCATION'], ['EDUCATION', 'LOCATION'], ['AGE'], ['AGE', 'LOCATION'], ['LOCATION']]\n"
     ]
    }
   ],
   "source": [
    "print(result)"
   ]
  },
  {
   "cell_type": "code",
   "execution_count": null,
   "metadata": {},
   "outputs": [],
   "source": []
  }
 ],
 "metadata": {
  "kernelspec": {
   "display_name": "Python 3",
   "language": "python",
   "name": "python3"
  },
  "language_info": {
   "codemirror_mode": {
    "name": "ipython",
    "version": 3
   },
   "file_extension": ".py",
   "mimetype": "text/x-python",
   "name": "python",
   "nbconvert_exporter": "python",
   "pygments_lexer": "ipython3",
   "version": "3.6.5"
  }
 },
 "nbformat": 4,
 "nbformat_minor": 2
}

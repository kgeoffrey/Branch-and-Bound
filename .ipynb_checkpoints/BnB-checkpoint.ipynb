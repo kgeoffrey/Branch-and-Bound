{
 "cells": [
  {
   "cell_type": "code",
   "execution_count": 1,
   "metadata": {},
   "outputs": [],
   "source": [
    "##Brute-Force, Exhaustive Search and Branch&Bound!\n",
    "\n",
    "import pandas as pd\n",
    "import statsmodels.formula.api as smf\n",
    "import numpy as np\n",
    "import scipy.stats\n",
    "from scipy.stats import norm\n",
    "from sklearn.linear_model import LinearRegression  \n",
    "import itertools\n",
    "import copy\n",
    "\n",
    "\n",
    "data = pd.read_csv(\"C:/Users/Praktikant1/Desktop/Projekte/Branch and Bound/Branch-and-Bound/dataset.csv\",sep=\";\").astype(float)"
   ]
  },
  {
   "cell_type": "code",
   "execution_count": 65,
   "metadata": {},
   "outputs": [],
   "source": [
    "#variables and speficicatons\n",
    "\n",
    "headers = list(data)\n",
    "Y = headers[0]\n",
    "X = headers[1:]"
   ]
  },
  {
   "cell_type": "code",
   "execution_count": 102,
   "metadata": {},
   "outputs": [
    {
     "data": {
      "text/plain": [
       "'regressor = LinearRegression()  \\n\\nR = regressor.fit(data[X],data[Y])  \\ns = regressor.score(data[X], data[Y]) \\n\\n#prints mean squared error\\nprint(s)'"
      ]
     },
     "execution_count": 102,
     "metadata": {},
     "output_type": "execute_result"
    }
   ],
   "source": [
    "\"\"\"regressor = LinearRegression()  \n",
    "\n",
    "R = regressor.fit(data[X],data[Y])  \n",
    "s = regressor.score(data[X], data[Y]) \n",
    "\n",
    "#prints mean squared error\n",
    "print(s)\"\"\""
   ]
  },
  {
   "cell_type": "code",
   "execution_count": 121,
   "metadata": {},
   "outputs": [],
   "source": [
    "## exhaustive search - Brute Force. create class here\n",
    "\n",
    "class BruteForce: \n",
    "    \n",
    "    def __init__(self, Y, X, data):\n",
    "        self.Y = Y\n",
    "        self.X = X\n",
    "        self.data = data\n",
    "   \n",
    "    def powerset(self, X):\n",
    "        target = []\n",
    "        def combinations(target,X):\n",
    "            for i in range(len(X)):\n",
    "                new_target = copy.copy(target)\n",
    "                new_data = copy.copy(X)\n",
    "                new_target.append(X[i])\n",
    "                new_data = X[i+1:]\n",
    "                pp.append(new_target)\n",
    "                #print(new_target)\n",
    "                combinations(new_target,new_data)\n",
    "        pp = []\n",
    "        combinations(target, X)\n",
    "        return pp\n",
    "    \n",
    "    def regress(self, X, Y):\n",
    "        regressor = LinearRegression()\n",
    "        R = regressor.fit(data[X],data[Y])  \n",
    "        s = regressor.score(data[X], data[Y])\n",
    "        return (s) \n",
    "    \n",
    "    def search(self):\n",
    "        solutions = []\n",
    "        combos = self.powerset(self.X)\n",
    "\n",
    "        \n",
    "        for i in combos:\n",
    "            solutions.append(self.regress(i, self.Y))\n",
    "            \n",
    "        return solutions\n",
    "    \n",
    "    def solve(self):\n",
    "        sol = np.argmax(self.search())\n",
    "        return sol\n",
    "                 "
   ]
  },
  {
   "cell_type": "code",
   "execution_count": 122,
   "metadata": {},
   "outputs": [
    {
     "name": "stdout",
     "output_type": "stream",
     "text": [
      "0\n",
      "4\n"
     ]
    }
   ],
   "source": [
    "t = BruteForce(Y,X,data).solve()\n",
    "\n",
    "print(np.argmax(t))\n",
    "\n",
    "print(t)"
   ]
  },
  {
   "cell_type": "code",
   "execution_count": 120,
   "metadata": {},
   "outputs": [
    {
     "ename": "TypeError",
     "evalue": "'NoneType' object is not iterable",
     "output_type": "error",
     "traceback": [
      "\u001b[1;31m---------------------------------------------------------------------------\u001b[0m",
      "\u001b[1;31mTypeError\u001b[0m                                 Traceback (most recent call last)",
      "\u001b[1;32m<ipython-input-120-a0d0732f43a5>\u001b[0m in \u001b[0;36m<module>\u001b[1;34m()\u001b[0m\n\u001b[1;32m----> 1\u001b[1;33m \u001b[1;32mfor\u001b[0m \u001b[0mi\u001b[0m \u001b[1;32min\u001b[0m \u001b[0mt\u001b[0m\u001b[1;33m:\u001b[0m\u001b[1;33m\u001b[0m\u001b[0m\n\u001b[0m\u001b[0;32m      2\u001b[0m     \u001b[0mprint\u001b[0m\u001b[1;33m(\u001b[0m\u001b[0mt\u001b[0m\u001b[1;33m[\u001b[0m\u001b[0mi\u001b[0m\u001b[1;33m]\u001b[0m\u001b[1;33m)\u001b[0m\u001b[1;33m\u001b[0m\u001b[0m\n",
      "\u001b[1;31mTypeError\u001b[0m: 'NoneType' object is not iterable"
     ]
    }
   ],
   "source": [
    "for i in t:\n",
    "    print(t[i])"
   ]
  },
  {
   "cell_type": "code",
   "execution_count": 106,
   "metadata": {},
   "outputs": [],
   "source": [
    "## This function generates all possible combinations of the list!\n",
    "\n",
    "def powerset(data):\n",
    "    target = []\n",
    "    \n",
    "    def combinations(target,data):\n",
    "        for i in range(len(data)):\n",
    "            new_target = copy.copy(target)\n",
    "            new_data = copy.copy(data)\n",
    "            new_target.append(data[i])\n",
    "            new_data = data[i+1:]\n",
    "            pp.append(new_target)\n",
    "            #print(new_target)\n",
    "            combinations(new_target,new_data)\n",
    "    pp = []\n",
    "    rrr = [combinations(target, data)]\n",
    "    return pp\n"
   ]
  },
  {
   "cell_type": "code",
   "execution_count": 107,
   "metadata": {},
   "outputs": [],
   "source": [
    "result = powerset(X)"
   ]
  },
  {
   "cell_type": "code",
   "execution_count": null,
   "metadata": {},
   "outputs": [],
   "source": []
  },
  {
   "cell_type": "code",
   "execution_count": null,
   "metadata": {},
   "outputs": [],
   "source": []
  }
 ],
 "metadata": {
  "kernelspec": {
   "display_name": "Python 3",
   "language": "python",
   "name": "python3"
  },
  "language_info": {
   "codemirror_mode": {
    "name": "ipython",
    "version": 3
   },
   "file_extension": ".py",
   "mimetype": "text/x-python",
   "name": "python",
   "nbconvert_exporter": "python",
   "pygments_lexer": "ipython3",
   "version": "3.6.5"
  }
 },
 "nbformat": 4,
 "nbformat_minor": 2
}

{
 "cells": [
  {
   "cell_type": "code",
   "execution_count": 39,
   "metadata": {},
   "outputs": [],
   "source": [
    "##Brute-Force, Exhaustive Search and Branch&Bound!\n",
    "\n",
    "import pandas as pd\n",
    "import statsmodels.formula.api as smf\n",
    "import numpy as np\n",
    "import scipy.stats\n",
    "from scipy.stats import norm\n",
    "from sklearn.linear_model import LinearRegression  \n",
    "import itertools\n",
    "import copy\n",
    "\n",
    "data = pd.read_csv(\"/Users/geoffreykasenbacher/Desktop/projects/branch and bound/Branch-and-Bound/dataset.csv\",sep=\";\").astype(float)"
   ]
  },
  {
   "cell_type": "code",
   "execution_count": 40,
   "metadata": {},
   "outputs": [],
   "source": [
    "#variables and speficicatons\n",
    "\n",
    "headers = list(data)\n",
    "Y = headers[0]\n",
    "X = headers[1:]\n"
   ]
  },
  {
   "cell_type": "code",
   "execution_count": 45,
   "metadata": {},
   "outputs": [],
   "source": [
    "## exhaustive search - Brute Force. create class here\n",
    "\n",
    "class BruteForce: \n",
    "    \n",
    "    def __init__(self, Y, X, data):\n",
    "        self.Y = Y\n",
    "        self.X = X\n",
    "        self.data = data\n",
    "   \n",
    "    def powerset(self, X):\n",
    "        target = []\n",
    "        def combinations(target,X):\n",
    "            for i in range(len(X)):\n",
    "                new_target = copy.copy(target)\n",
    "                new_data = copy.copy(X)\n",
    "                new_target.append(X[i])\n",
    "                new_data = X[i+1:]\n",
    "                pp.append(new_target)\n",
    "                #print(new_target)\n",
    "                combinations(new_target,new_data)\n",
    "        pp = []\n",
    "        combinations(target, X)\n",
    "        return pp\n",
    "    \n",
    "    def regress(self, X, Y, data):\n",
    "        regressor = LinearRegression()\n",
    "        R = regressor.fit(data[X],data[Y])  \n",
    "        s = regressor.score(data[X], data[Y])\n",
    "        return (s) \n",
    "    \n",
    "    def search(self):\n",
    "        solutions = []\n",
    "        combos = self.powerset(self.X)\n",
    "        for i in combos:\n",
    "            solutions.append(self.regress(i, self.Y, self.data))  \n",
    "        return solutions, combos\n",
    "    \n",
    "    def solve(self):\n",
    "        sol, combos = self.search()\n",
    "        highest_R2 = combos[np.argmax(sol)]\n",
    "        R2 = max(sol)\n",
    "        \n",
    "        print(\"higehst R^2 is\", R2, \"with dependant variables:\", highest_R2)\n",
    "        return highest_R2\n",
    "        \n",
    "                 "
   ]
  },
  {
   "cell_type": "code",
   "execution_count": 46,
   "metadata": {},
   "outputs": [
    {
     "name": "stdout",
     "output_type": "stream",
     "text": [
      "higehst R^2 is 0.032779569202025516 with dependant variables: ['SEX', 'INCOME', 'EDUCATION', 'AGE', 'LOCATION']\n"
     ]
    }
   ],
   "source": [
    "t = BruteForce(Y,X,data).solve()\n"
   ]
  },
  {
   "cell_type": "code",
   "execution_count": 34,
   "metadata": {},
   "outputs": [],
   "source": [
    "bankdata = pd.read_csv(\"/Users/geoffreykasenbacher/Downloads/bank/bank.csv\", sep = \";\")"
   ]
  },
  {
   "cell_type": "code",
   "execution_count": 35,
   "metadata": {},
   "outputs": [],
   "source": [
    "banklist = list(bankdata)\n",
    "bankdata1 = bankdata[banklist[0:2]]"
   ]
  },
  {
   "cell_type": "code",
   "execution_count": 37,
   "metadata": {},
   "outputs": [
    {
     "name": "stdout",
     "output_type": "stream",
     "text": [
      "higehst R^2 is 0.25618825635156817 dependant variables are: ['job_admin.', 'job_blue-collar', 'job_entrepreneur', 'job_housemaid', 'job_management', 'job_retired', 'job_services', 'job_student', 'job_technician', 'job_unemployed', 'job_unknown']\n"
     ]
    }
   ],
   "source": [
    "bb = pd.get_dummies( bankdata1 )\n",
    "bblist = list(bb)\n",
    "#print(bb)\n",
    "\n",
    "\n",
    "Y = bblist[0]\n",
    "X = bblist[1:]\n",
    "\n",
    "best = BruteForce(Y,X,bb).solve()"
   ]
  },
  {
   "cell_type": "code",
   "execution_count": 38,
   "metadata": {},
   "outputs": [
    {
     "name": "stdout",
     "output_type": "stream",
     "text": [
      "['job_admin.', 'job_blue-collar', 'job_entrepreneur', 'job_housemaid', 'job_management', 'job_retired', 'job_services', 'job_student', 'job_technician', 'job_unemployed', 'job_unknown']\n"
     ]
    }
   ],
   "source": [
    "print(best)"
   ]
  },
  {
   "cell_type": "code",
   "execution_count": null,
   "metadata": {},
   "outputs": [],
   "source": []
  },
  {
   "cell_type": "code",
   "execution_count": null,
   "metadata": {},
   "outputs": [],
   "source": []
  }
 ],
 "metadata": {
  "kernelspec": {
   "display_name": "Python 3",
   "language": "python",
   "name": "python3"
  },
  "language_info": {
   "codemirror_mode": {
    "name": "ipython",
    "version": 3
   },
   "file_extension": ".py",
   "mimetype": "text/x-python",
   "name": "python",
   "nbconvert_exporter": "python",
   "pygments_lexer": "ipython3",
   "version": "3.6.4"
  }
 },
 "nbformat": 4,
 "nbformat_minor": 2
}

{
 "cells": [
  {
   "cell_type": "code",
   "execution_count": 43,
   "metadata": {},
   "outputs": [],
   "source": [
    "##Branch and Bound!\n",
    "\n",
    "import pandas as pd\n",
    "\n",
    "import statsmodels.formula.api as smf\n",
    "import numpy as np\n",
    "import scipy.stats\n",
    "from scipy.stats import norm\n",
    "from sklearn.linear_model import LinearRegression  \n",
    "\n",
    "\n",
    "data = pd.read_csv(\"C:/Users/Praktikant1/Desktop/Projekte/Branch and Bound/Branch-and-Bound/dataset.csv\",sep=\";\").astype(float)"
   ]
  },
  {
   "cell_type": "code",
   "execution_count": 61,
   "metadata": {},
   "outputs": [],
   "source": [
    "#variables and speficicatons\n",
    "\n",
    "headers = list(data)\n",
    "Y = headers[0]\n",
    "X = headers[1:]"
   ]
  },
  {
   "cell_type": "code",
   "execution_count": 62,
   "metadata": {},
   "outputs": [
    {
     "name": "stdout",
     "output_type": "stream",
     "text": [
      "0.032779569202025516\n"
     ]
    }
   ],
   "source": [
    "regressor = LinearRegression()  \n",
    "\n",
    "R = regressor.fit(data[X],data[Y])  \n",
    "s = regressor.score(data[X], data[Y]) \n",
    "\n",
    "#prints mean squared error\n",
    "print(s)"
   ]
  },
  {
   "cell_type": "code",
   "execution_count": 63,
   "metadata": {},
   "outputs": [],
   "source": [
    "\n",
    "## exhaustive search? create class here\n",
    "\n",
    "class bbalgorithm: \n",
    "    def __init__(self, dependant, indepedant):\n",
    "        self.depedant = dependant\n",
    "        self.indepedant = independat\n",
    "    \n",
    "    def combine():\n",
    "        \n",
    "    \n",
    "    def branch():\n",
    "        \n",
    "        pass\n",
    "    \n",
    "    def bound():\n",
    "        \n",
    "        pass\n",
    "    \n"
   ]
  },
  {
   "cell_type": "code",
   "execution_count": null,
   "metadata": {},
   "outputs": [],
   "source": []
  },
  {
   "cell_type": "code",
   "execution_count": null,
   "metadata": {},
   "outputs": [],
   "source": []
  }
 ],
 "metadata": {
  "kernelspec": {
   "display_name": "Python 3",
   "language": "python",
   "name": "python3"
  },
  "language_info": {
   "codemirror_mode": {
    "name": "ipython",
    "version": 3
   },
   "file_extension": ".py",
   "mimetype": "text/x-python",
   "name": "python",
   "nbconvert_exporter": "python",
   "pygments_lexer": "ipython3",
   "version": "3.6.5"
  }
 },
 "nbformat": 4,
 "nbformat_minor": 2
}

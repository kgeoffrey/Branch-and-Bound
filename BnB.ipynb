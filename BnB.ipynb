{
 "cells": [
  {
   "cell_type": "code",
   "execution_count": 7,
   "metadata": {},
   "outputs": [],
   "source": [
    "##Brute-Force, Exhaustive Search and Branch&Bound!\n",
    "\n",
    "import pandas as pd\n",
    "import statsmodels.formula.api as smf\n",
    "import numpy as np\n",
    "import scipy.stats\n",
    "from scipy.stats import norm\n",
    "from sklearn.linear_model import LinearRegression  \n",
    "import itertools\n",
    "import copy"
   ]
  },
  {
   "cell_type": "code",
   "execution_count": 117,
   "metadata": {},
   "outputs": [
    {
     "name": "stdout",
     "output_type": "stream",
     "text": [
      "    Unnamed: 0    cost    t1    t2     cap   pr   ne   ct   bw  cum.n   pt\n",
      "0          1.0  460.05  14.0  46.0   687.0  0.0  1.0  0.0  0.0   14.0  0.0\n",
      "1          2.0  452.99  10.0  73.0  1065.0  0.0  0.0  1.0  0.0    1.0  0.0\n",
      "2          3.0  443.22  10.0  85.0  1065.0  1.0  0.0  1.0  0.0    1.0  0.0\n",
      "3          4.0  652.32  11.0  67.0  1065.0  0.0  1.0  1.0  0.0   12.0  0.0\n",
      "4          5.0  642.23  11.0  78.0  1065.0  1.0  1.0  1.0  0.0   12.0  0.0\n",
      "5          6.0  345.39  13.0  51.0   514.0  0.0  1.0  1.0  0.0    3.0  0.0\n",
      "6          7.0  272.37  12.0  50.0   822.0  0.0  0.0  0.0  0.0    5.0  0.0\n",
      "7          8.0  317.21  14.0  59.0   457.0  0.0  0.0  0.0  0.0    1.0  0.0\n",
      "8          9.0  457.12  15.0  55.0   822.0  1.0  0.0  0.0  0.0    5.0  0.0\n",
      "9         10.0  690.19  12.0  71.0   792.0  0.0  1.0  1.0  1.0    2.0  0.0\n",
      "10        11.0  350.63  12.0  64.0   560.0  0.0  0.0  0.0  0.0    3.0  0.0\n",
      "11        12.0  402.59  13.0  47.0   790.0  0.0  1.0  0.0  0.0    6.0  0.0\n",
      "12        13.0  412.18  15.0  62.0   530.0  0.0  0.0  1.0  0.0    2.0  0.0\n",
      "13        14.0  495.58  17.0  52.0  1050.0  0.0  0.0  0.0  0.0    7.0  0.0\n",
      "14        15.0  394.36  13.0  65.0   850.0  0.0  0.0  0.0  1.0   16.0  0.0\n",
      "15        16.0  423.32  11.0  67.0   778.0  0.0  0.0  0.0  0.0    3.0  0.0\n",
      "16        17.0  712.27  18.0  60.0   845.0  0.0  1.0  0.0  0.0   17.0  0.0\n",
      "17        18.0  289.66  15.0  76.0   530.0  1.0  0.0  1.0  0.0    2.0  0.0\n",
      "18        19.0  881.24  15.0  67.0  1090.0  0.0  0.0  0.0  0.0    1.0  0.0\n",
      "19        20.0  490.88  16.0  59.0  1050.0  1.0  0.0  0.0  0.0    8.0  0.0\n",
      "20        21.0  567.79  11.0  70.0   913.0  0.0  0.0  1.0  1.0   15.0  0.0\n",
      "21        22.0  665.99  22.0  57.0   828.0  1.0  1.0  0.0  0.0   20.0  0.0\n",
      "22        23.0  621.45  16.0  59.0   786.0  0.0  0.0  1.0  0.0   18.0  0.0\n",
      "23        24.0  608.80  19.0  58.0   821.0  1.0  0.0  0.0  0.0    3.0  0.0\n",
      "24        25.0  473.64  19.0  44.0   538.0  0.0  0.0  1.0  0.0   19.0  0.0\n",
      "25        26.0  697.14  20.0  57.0  1130.0  0.0  0.0  1.0  0.0   21.0  0.0\n",
      "26        27.0  207.51  13.0  63.0   745.0  0.0  0.0  0.0  0.0    8.0  1.0\n",
      "27        28.0  288.48   9.0  48.0   821.0  0.0  0.0  1.0  0.0    7.0  1.0\n",
      "28        29.0  284.88  12.0  63.0   886.0  0.0  0.0  0.0  1.0   11.0  1.0\n",
      "29        30.0  280.36  12.0  71.0   886.0  1.0  0.0  0.0  1.0   11.0  1.0\n",
      "30        31.0  217.38  13.0  72.0   745.0  1.0  0.0  0.0  0.0    8.0  1.0\n",
      "31        32.0  270.71   7.0  80.0   886.0  1.0  0.0  0.0  1.0   11.0  1.0\n"
     ]
    }
   ],
   "source": [
    "## Get Data as a Pandas Dataframe! Make sure to have numerical data only! (pd.get_dummies might help)\n",
    "\n",
    "file =\"C:/Users/Praktikant1/Downloads/nuclear.csv\"\n",
    "\n",
    "data = pd.read_csv(file,sep=\",\").astype(float).drop(data.columns[1], axis=1)\n",
    "\n",
    "#Y = list(data)[0]\n",
    "#X = list(data)[1:]\n",
    "\n",
    "print(data)"
   ]
  },
  {
   "cell_type": "code",
   "execution_count": 83,
   "metadata": {},
   "outputs": [],
   "source": [
    "## exhaustive search - Brute Force. create class here\n",
    "\n",
    "class BruteForce: \n",
    "    \n",
    "    def __init__(self, Y, X, data):\n",
    "        self.Y = Y\n",
    "        self.X = X\n",
    "        self.data = data\n",
    "   \n",
    "    def powerset(self, X):\n",
    "        target = []\n",
    "        def combinations(target,X):\n",
    "            for i in range(len(X)):\n",
    "                new_target = copy.copy(target)\n",
    "                new_data = copy.copy(X)\n",
    "                new_target.append(X[i])\n",
    "                new_data = X[i+1:]\n",
    "                pp.append(new_target)\n",
    "                #print(new_target)\n",
    "                combinations(new_target,new_data)\n",
    "        pp = []\n",
    "        combinations(target, X)\n",
    "        return pp\n",
    "    \n",
    "    def regress(self, X, Y, data):\n",
    "        regressor = LinearRegression()\n",
    "        R = regressor.fit(data[X],data[Y])  \n",
    "        \n",
    "        #returns R^2\n",
    "        s = regressor.score(data[X], data[Y])\n",
    "        \n",
    "        # Calculates adjusted R^2\n",
    "        n = len(data)\n",
    "        k = len(self.X)\n",
    "        adj_r2 = 1 - (( (1-r2)*(n-1) )/ (n - k -1))\n",
    "        \n",
    "        return (s) \n",
    "    \n",
    "    def search(self):\n",
    "        solutions = []\n",
    "        combos = self.powerset(self.X)\n",
    "        for i in combos:\n",
    "            solutions.append(self.regress(i, self.Y, self.data))  \n",
    "        return solutions, combos\n",
    "    \n",
    "    def solve(self):\n",
    "        sol, combos = self.search()\n",
    "        highest_R2 = combos[np.argmax(sol)]\n",
    "        R2 = max(sol)\n",
    "        \n",
    "        print(\"higehst R^2 is\", R2, \"with dependant variables:\", highest_R2)\n",
    "        return highest_R2, R2\n",
    "        \n",
    "        "
   ]
  },
  {
   "cell_type": "code",
   "execution_count": 84,
   "metadata": {},
   "outputs": [
    {
     "name": "stdout",
     "output_type": "stream",
     "text": [
      "higehst R^2 is 0.839423385282796 with dependant variables: ['date', 't1', 't2', 'cap', 'pr', 'ne', 'ct', 'bw', 'cum.n', 'pt']\n",
      "11\n"
     ]
    }
   ],
   "source": [
    "t, r2 = BruteForce(Y,X,data).solve()\n",
    "\n",
    "print(len(list(data)))"
   ]
  },
  {
   "cell_type": "code",
   "execution_count": 118,
   "metadata": {},
   "outputs": [],
   "source": [
    "## this will solve all possible linear regressions and return the one with highest R^2\n",
    "\n",
    "class exhaustivesearch: \n",
    "    \n",
    "    def __init__(self, data):\n",
    "        self.data = data\n",
    "        \n",
    "    def assign(self):\n",
    "        XX = list(self.data)\n",
    "        dic = {}\n",
    "        \n",
    "        for i in XX:\n",
    "            Y = i\n",
    "            X = self.powerset([x for x in XX if x != Y])\n",
    "            dic[Y] = X\n",
    "        return dic\n",
    "\n",
    "    def powerset(self, X):\n",
    "        target = []\n",
    "        def combinations(target,X):\n",
    "            for i in range(len(X)):\n",
    "                new_target = copy.copy(target)\n",
    "                new_data = copy.copy(X)\n",
    "                new_target.append(X[i])\n",
    "                new_data = X[i+1:]\n",
    "                pp.append(new_target)\n",
    "                combinations(new_target,new_data)\n",
    "        pp = []\n",
    "        combinations(target, X)\n",
    "        return pp\n",
    "    \n",
    "    def regress(self, X, Y, data):\n",
    "        regressor = LinearRegression()\n",
    "        R = regressor.fit(self.data[X],self.data[Y])\n",
    "        \n",
    "        #returns R^2\n",
    "        r2 = regressor.score(self.data[X], self.data[Y])\n",
    "        \n",
    "        #returns Adjusted R^2 \n",
    "        n = len(self.data)\n",
    "        k = len(list(self.data[X]))\n",
    "        adj_r2 = (1 - ( ((1 - r2)*(n - 1))/(n - k - 1) ))\n",
    "        \n",
    "        return adj_r2 \n",
    "    \n",
    "    def search(self):\n",
    "        dic = self.assign()\n",
    "        newdic = {}\n",
    "        for y in dic:\n",
    "            for x in dic[y]:\n",
    "                newdic[self.regress(x, y, data)] = y, x\n",
    "        new={}\n",
    "        sd = sorted(newdic.items(), reverse=True)\n",
    "        for k,v in sd:\n",
    "            new[k] = v\n",
    "        return new\n",
    "    \n",
    "    def solve(self):\n",
    "        results = self.search()\n",
    "        highest_R2 = list(results.keys())[0]\n",
    "        best_vars = results[highest_R2]\n",
    "        \n",
    "        print(\"higehst R^2 is\", highest_R2, \"with dependant/indepedant variables:\", best_vars)\n",
    "        return results"
   ]
  },
  {
   "cell_type": "code",
   "execution_count": 119,
   "metadata": {},
   "outputs": [
    {
     "name": "stdout",
     "output_type": "stream",
     "text": [
      "higehst R^2 is 0.8283937667274062 with dependant/indepedant variables: ('pt', ['Unnamed: 0', 'cost', 't1', 'cap', 'ne'])\n"
     ]
    }
   ],
   "source": [
    "wow = exhaustivesearch(data).solve()"
   ]
  },
  {
   "cell_type": "code",
   "execution_count": 124,
   "metadata": {},
   "outputs": [],
   "source": [
    "## Next feature: restricting size, upper and lower bounds for model size!\n",
    "\n",
    "# wow = exhaustive_search(data = data, R^2 = adj, exp_var = 5, lower_bound = 3, upper_bound = 7).solve()\n"
   ]
  },
  {
   "cell_type": "code",
   "execution_count": 121,
   "metadata": {},
   "outputs": [],
   "source": [
    "## compute adjusted R2\n",
    "def adj_r2(r2, data, X):\n",
    "    n = len(data)\n",
    "    k = len(X)\n",
    "    adj_r2 = 1 - (( (1-r2)*(n-1) )/ (n - k -1))\n",
    "    \n",
    "    return adj_r2"
   ]
  },
  {
   "cell_type": "code",
   "execution_count": 123,
   "metadata": {},
   "outputs": [
    {
     "data": {
      "text/plain": [
       "32"
      ]
     },
     "execution_count": 123,
     "metadata": {},
     "output_type": "execute_result"
    }
   ],
   "source": [
    "len(data)"
   ]
  },
  {
   "cell_type": "code",
   "execution_count": null,
   "metadata": {},
   "outputs": [],
   "source": []
  }
 ],
 "metadata": {
  "kernelspec": {
   "display_name": "Python 3",
   "language": "python",
   "name": "python3"
  },
  "language_info": {
   "codemirror_mode": {
    "name": "ipython",
    "version": 3
   },
   "file_extension": ".py",
   "mimetype": "text/x-python",
   "name": "python",
   "nbconvert_exporter": "python",
   "pygments_lexer": "ipython3",
   "version": "3.6.5"
  }
 },
 "nbformat": 4,
 "nbformat_minor": 2
}

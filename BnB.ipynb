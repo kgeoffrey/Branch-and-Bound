{
 "cells": [
  {
   "cell_type": "code",
   "execution_count": 1,
   "metadata": {},
   "outputs": [],
   "source": [
    "##Brute-Force, Exhaustive Search and Branch&Bound!\n",
    "\n",
    "import pandas as pd\n",
    "import statsmodels.formula.api as smf\n",
    "import numpy as np\n",
    "import scipy.stats\n",
    "from scipy.stats import norm\n",
    "from sklearn.linear_model import LinearRegression  \n",
    "import itertools\n",
    "import copy\n",
    "\n",
    "\n",
    "data = pd.read_csv(\"C:/Users/Praktikant1/Desktop/Projekte/Branch and Bound/Branch-and-Bound/dataset.csv\",sep=\";\").astype(float)"
   ]
  },
  {
   "cell_type": "code",
   "execution_count": 14,
   "metadata": {},
   "outputs": [],
   "source": [
    "#variables and speficicatons\n",
    "\n",
    "headers = list(data)\n",
    "Y = headers[0]\n",
    "X = headers[1:]"
   ]
  },
  {
   "cell_type": "code",
   "execution_count": 15,
   "metadata": {},
   "outputs": [
    {
     "name": "stdout",
     "output_type": "stream",
     "text": [
      "0.032779569202025516\n"
     ]
    }
   ],
   "source": [
    "regressor = LinearRegression()  \n",
    "\n",
    "R = regressor.fit(data[X],data[Y])  \n",
    "s = regressor.score(data[X], data[Y]) \n",
    "\n",
    "#prints mean squared error\n",
    "print(s)"
   ]
  },
  {
   "cell_type": "code",
   "execution_count": 61,
   "metadata": {},
   "outputs": [],
   "source": [
    "## exhaustive search? create class here\n",
    "\n",
    "\n",
    "class BruteForce: \n",
    "    \n",
    "    def __init__(self, Y, X):\n",
    "        self.Y = Y\n",
    "        self.X = X\n",
    "    \n",
    "    \"\"\"\n",
    "    def branch():\n",
    "        pass\n",
    "\n",
    "    def bound():\n",
    "        pass\n",
    "\n",
    "    \"\"\"\n",
    "    \n",
    "    def powerset(self):\n",
    "        target = []\n",
    "        def combinations(target,self):\n",
    "            for i in range(len(self)):\n",
    "                new_target = copy.copy(target)\n",
    "                new_data = copy.copy(self)\n",
    "                new_target.append(self[i])\n",
    "                new_data = self[i+1:]\n",
    "                pp.append(new_target)\n",
    "                #print(new_target)\n",
    "                combinations(new_target,new_data)\n",
    "        pp = []\n",
    "        combinations(target, self)\n",
    "        return pp\n",
    "    \n",
    "    def regress(self):\n",
    "        \n",
    "        \n",
    "        pass\n",
    "    \n",
    "    def solve(self):\n",
    "        combos = powerset(self.X)\n",
    "        \n",
    "        \n",
    "        #print(combos)\n",
    "        \n",
    "        \n",
    "\n",
    "\n"
   ]
  },
  {
   "cell_type": "code",
   "execution_count": 62,
   "metadata": {},
   "outputs": [
    {
     "name": "stdout",
     "output_type": "stream",
     "text": [
      "[['SEX'], ['SEX', 'INCOME'], ['SEX', 'INCOME', 'EDUCATION'], ['SEX', 'INCOME', 'EDUCATION', 'AGE'], ['SEX', 'INCOME', 'EDUCATION', 'AGE', 'LOCATION'], ['SEX', 'INCOME', 'EDUCATION', 'LOCATION'], ['SEX', 'INCOME', 'AGE'], ['SEX', 'INCOME', 'AGE', 'LOCATION'], ['SEX', 'INCOME', 'LOCATION'], ['SEX', 'EDUCATION'], ['SEX', 'EDUCATION', 'AGE'], ['SEX', 'EDUCATION', 'AGE', 'LOCATION'], ['SEX', 'EDUCATION', 'LOCATION'], ['SEX', 'AGE'], ['SEX', 'AGE', 'LOCATION'], ['SEX', 'LOCATION'], ['INCOME'], ['INCOME', 'EDUCATION'], ['INCOME', 'EDUCATION', 'AGE'], ['INCOME', 'EDUCATION', 'AGE', 'LOCATION'], ['INCOME', 'EDUCATION', 'LOCATION'], ['INCOME', 'AGE'], ['INCOME', 'AGE', 'LOCATION'], ['INCOME', 'LOCATION'], ['EDUCATION'], ['EDUCATION', 'AGE'], ['EDUCATION', 'AGE', 'LOCATION'], ['EDUCATION', 'LOCATION'], ['AGE'], ['AGE', 'LOCATION'], ['LOCATION']]\n"
     ]
    }
   ],
   "source": [
    "BruteForce(Y,X).solve()"
   ]
  },
  {
   "cell_type": "code",
   "execution_count": 38,
   "metadata": {},
   "outputs": [],
   "source": [
    "## This function generates all possible combinations of the list!\n",
    "\n",
    "def powerset(data):\n",
    "    target = []\n",
    "    \n",
    "    def combinations(target,data):\n",
    "        for i in range(len(data)):\n",
    "            new_target = copy.copy(target)\n",
    "            new_data = copy.copy(data)\n",
    "            new_target.append(data[i])\n",
    "            new_data = data[i+1:]\n",
    "            pp.append(new_target)\n",
    "            #print(new_target)\n",
    "            combinations(new_target,new_data)\n",
    "    pp = []\n",
    "    rrr = [combinations(target, data)]\n",
    "    return pp\n"
   ]
  },
  {
   "cell_type": "code",
   "execution_count": 39,
   "metadata": {},
   "outputs": [],
   "source": [
    "result = powerset(X)"
   ]
  },
  {
   "cell_type": "code",
   "execution_count": 20,
   "metadata": {},
   "outputs": [
    {
     "ename": "NameError",
     "evalue": "name 'BruteForce' is not defined",
     "output_type": "error",
     "traceback": [
      "\u001b[1;31m---------------------------------------------------------------------------\u001b[0m",
      "\u001b[1;31mNameError\u001b[0m                                 Traceback (most recent call last)",
      "\u001b[1;32m<ipython-input-20-26fe5732aff5>\u001b[0m in \u001b[0;36m<module>\u001b[1;34m()\u001b[0m\n\u001b[1;32m----> 1\u001b[1;33m \u001b[0mbest_model\u001b[0m \u001b[1;33m=\u001b[0m \u001b[0mBruteForce\u001b[0m\u001b[1;33m(\u001b[0m\u001b[0mx\u001b[0m\u001b[1;33m,\u001b[0m\u001b[0my\u001b[0m\u001b[1;33m)\u001b[0m\u001b[1;33m\u001b[0m\u001b[0m\n\u001b[0m",
      "\u001b[1;31mNameError\u001b[0m: name 'BruteForce' is not defined"
     ]
    }
   ],
   "source": []
  },
  {
   "cell_type": "code",
   "execution_count": null,
   "metadata": {},
   "outputs": [],
   "source": []
  }
 ],
 "metadata": {
  "kernelspec": {
   "display_name": "Python 3",
   "language": "python",
   "name": "python3"
  },
  "language_info": {
   "codemirror_mode": {
    "name": "ipython",
    "version": 3
   },
   "file_extension": ".py",
   "mimetype": "text/x-python",
   "name": "python",
   "nbconvert_exporter": "python",
   "pygments_lexer": "ipython3",
   "version": "3.6.5"
  }
 },
 "nbformat": 4,
 "nbformat_minor": 2
}

{
 "cells": [
  {
   "cell_type": "code",
   "execution_count": 1,
   "metadata": {},
   "outputs": [],
   "source": [
    "##Brute-Force, Exhaustive Search and Branch&Bound!\n",
    "\n",
    "import pandas as pd\n",
    "import statsmodels.formula.api as smf\n",
    "import numpy as np\n",
    "import scipy.stats\n",
    "from scipy.stats import norm\n",
    "from sklearn.linear_model import LinearRegression  \n",
    "import itertools\n",
    "import copy\n",
    "\n",
    "\n",
    "data = pd.read_csv(\"C:/Users/Praktikant1/Desktop/Projekte/Branch and Bound/Branch-and-Bound/dataset.csv\",sep=\";\").astype(float)"
   ]
  },
  {
   "cell_type": "code",
   "execution_count": 65,
   "metadata": {},
   "outputs": [],
   "source": [
    "#variables and speficicatons\n",
    "\n",
    "headers = list(data)\n",
    "Y = headers[0]\n",
    "X = headers[1:]"
   ]
  },
  {
   "cell_type": "code",
   "execution_count": 66,
   "metadata": {},
   "outputs": [
    {
     "name": "stdout",
     "output_type": "stream",
     "text": [
      "0.032779569202025516\n"
     ]
    }
   ],
   "source": [
    "regressor = LinearRegression()  \n",
    "\n",
    "R = regressor.fit(data[X],data[Y])  \n",
    "s = regressor.score(data[X], data[Y]) \n",
    "\n",
    "#prints mean squared error\n",
    "print(s)"
   ]
  },
  {
   "cell_type": "code",
   "execution_count": 78,
   "metadata": {},
   "outputs": [],
   "source": [
    "## exhaustive search? create class here\n",
    "\n",
    "\n",
    "class BruteForce: \n",
    "    \n",
    "    def __init__(self, Y, X, data):\n",
    "        self.Y = Y\n",
    "        self.X = X\n",
    "        self.data = data\n",
    "    \n",
    "    \"\"\"\n",
    "    def branch():\n",
    "        pass\n",
    "\n",
    "    def bound():\n",
    "        pass\n",
    "\n",
    "    \"\"\"\n",
    "    \n",
    "    def powerset(self, X):\n",
    "        target = []\n",
    "        def combinations(target,X):\n",
    "            for i in range(len(X)):\n",
    "                new_target = copy.copy(target)\n",
    "                new_data = copy.copy(X)\n",
    "                new_target.append(X[i])\n",
    "                new_data = X[i+1:]\n",
    "                pp.append(new_target)\n",
    "                #print(new_target)\n",
    "                combinations(new_target,new_data)\n",
    "        pp = []\n",
    "        combinations(target, X)\n",
    "        return pp\n",
    "    \n",
    "    def regress(self, X, Y):\n",
    "        regressor = LinearRegression()\n",
    "        R = regressor.fit(data[X],data[Y])  \n",
    "        s = regressor.score(data[X], data[Y])\n",
    "        return (s) \n",
    "    \n",
    "    def solve(self):\n",
    "        solutions = []\n",
    "        combos = self.powerset(self.X)\n",
    "        print(combos)\n",
    "        \n",
    "        \n",
    "        for i in (combos):\n",
    "            self.regress(combos[i], self.Y)\n",
    "            pass\n",
    "        \n",
    "        return (combos)\n",
    "        \n",
    "        \n",
    "\n",
    "\n"
   ]
  },
  {
   "cell_type": "code",
   "execution_count": 79,
   "metadata": {},
   "outputs": [
    {
     "name": "stdout",
     "output_type": "stream",
     "text": [
      "[['SEX'], ['SEX', 'INCOME'], ['SEX', 'INCOME', 'EDUCATION'], ['SEX', 'INCOME', 'EDUCATION', 'AGE'], ['SEX', 'INCOME', 'EDUCATION', 'AGE', 'LOCATION'], ['SEX', 'INCOME', 'EDUCATION', 'LOCATION'], ['SEX', 'INCOME', 'AGE'], ['SEX', 'INCOME', 'AGE', 'LOCATION'], ['SEX', 'INCOME', 'LOCATION'], ['SEX', 'EDUCATION'], ['SEX', 'EDUCATION', 'AGE'], ['SEX', 'EDUCATION', 'AGE', 'LOCATION'], ['SEX', 'EDUCATION', 'LOCATION'], ['SEX', 'AGE'], ['SEX', 'AGE', 'LOCATION'], ['SEX', 'LOCATION'], ['INCOME'], ['INCOME', 'EDUCATION'], ['INCOME', 'EDUCATION', 'AGE'], ['INCOME', 'EDUCATION', 'AGE', 'LOCATION'], ['INCOME', 'EDUCATION', 'LOCATION'], ['INCOME', 'AGE'], ['INCOME', 'AGE', 'LOCATION'], ['INCOME', 'LOCATION'], ['EDUCATION'], ['EDUCATION', 'AGE'], ['EDUCATION', 'AGE', 'LOCATION'], ['EDUCATION', 'LOCATION'], ['AGE'], ['AGE', 'LOCATION'], ['LOCATION']]\n",
      "['SEX', 'INCOME']\n"
     ]
    }
   ],
   "source": [
    "t = BruteForce(Y,X,data).solve()\n",
    "\n",
    "print(t[1])"
   ]
  },
  {
   "cell_type": "code",
   "execution_count": 75,
   "metadata": {},
   "outputs": [
    {
     "name": "stdout",
     "output_type": "stream",
     "text": [
      "['SEX']\n",
      "['SEX', 'INCOME']\n",
      "['SEX', 'INCOME', 'EDUCATION']\n",
      "['SEX', 'INCOME', 'EDUCATION', 'AGE']\n",
      "['SEX', 'INCOME', 'EDUCATION', 'AGE', 'LOCATION']\n",
      "['SEX', 'INCOME', 'EDUCATION', 'LOCATION']\n",
      "['SEX', 'INCOME', 'AGE']\n",
      "['SEX', 'INCOME', 'AGE', 'LOCATION']\n",
      "['SEX', 'INCOME', 'LOCATION']\n",
      "['SEX', 'EDUCATION']\n",
      "['SEX', 'EDUCATION', 'AGE']\n",
      "['SEX', 'EDUCATION', 'AGE', 'LOCATION']\n",
      "['SEX', 'EDUCATION', 'LOCATION']\n",
      "['SEX', 'AGE']\n",
      "['SEX', 'AGE', 'LOCATION']\n",
      "['SEX', 'LOCATION']\n",
      "['INCOME']\n",
      "['INCOME', 'EDUCATION']\n",
      "['INCOME', 'EDUCATION', 'AGE']\n",
      "['INCOME', 'EDUCATION', 'AGE', 'LOCATION']\n",
      "['INCOME', 'EDUCATION', 'LOCATION']\n",
      "['INCOME', 'AGE']\n",
      "['INCOME', 'AGE', 'LOCATION']\n",
      "['INCOME', 'LOCATION']\n",
      "['EDUCATION']\n",
      "['EDUCATION', 'AGE']\n",
      "['EDUCATION', 'AGE', 'LOCATION']\n",
      "['EDUCATION', 'LOCATION']\n",
      "['AGE']\n",
      "['AGE', 'LOCATION']\n",
      "['LOCATION']\n"
     ]
    }
   ],
   "source": [
    "for i in t:\n",
    "    print(i)"
   ]
  },
  {
   "cell_type": "code",
   "execution_count": null,
   "metadata": {},
   "outputs": [],
   "source": [
    "## This function generates all possible combinations of the list!\n",
    "\n",
    "def powerset(data):\n",
    "    target = []\n",
    "    \n",
    "    def combinations(target,data):\n",
    "        for i in range(len(data)):\n",
    "            new_target = copy.copy(target)\n",
    "            new_data = copy.copy(data)\n",
    "            new_target.append(data[i])\n",
    "            new_data = data[i+1:]\n",
    "            pp.append(new_target)\n",
    "            #print(new_target)\n",
    "            combinations(new_target,new_data)\n",
    "    pp = []\n",
    "    rrr = [combinations(target, data)]\n",
    "    return pp\n"
   ]
  },
  {
   "cell_type": "code",
   "execution_count": null,
   "metadata": {},
   "outputs": [],
   "source": [
    "result = powerset(X)"
   ]
  },
  {
   "cell_type": "code",
   "execution_count": null,
   "metadata": {},
   "outputs": [],
   "source": []
  },
  {
   "cell_type": "code",
   "execution_count": null,
   "metadata": {},
   "outputs": [],
   "source": []
  }
 ],
 "metadata": {
  "kernelspec": {
   "display_name": "Python 3",
   "language": "python",
   "name": "python3"
  },
  "language_info": {
   "codemirror_mode": {
    "name": "ipython",
    "version": 3
   },
   "file_extension": ".py",
   "mimetype": "text/x-python",
   "name": "python",
   "nbconvert_exporter": "python",
   "pygments_lexer": "ipython3",
   "version": "3.6.5"
  }
 },
 "nbformat": 4,
 "nbformat_minor": 2
}

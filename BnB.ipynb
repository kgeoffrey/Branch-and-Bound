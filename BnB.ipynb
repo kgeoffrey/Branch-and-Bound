{
 "cells": [
  {
   "cell_type": "code",
   "execution_count": 1,
   "metadata": {},
   "outputs": [],
   "source": [
    "##Brute-Force, Exhaustive Search and Branch&Bound!\n",
    "\n",
    "import pandas as pd\n",
    "import statsmodels.formula.api as smf\n",
    "import numpy as np\n",
    "import scipy.stats\n",
    "from scipy.stats import norm\n",
    "from sklearn.linear_model import LinearRegression  \n",
    "import itertools\n",
    "import copy\n",
    "\n",
    "data = pd.read_csv(\"/Users/geoffreykasenbacher/Desktop/projects/branch and bound/Branch-and-Bound/dataset.csv\",sep=\";\").astype(float)"
   ]
  },
  {
   "cell_type": "code",
   "execution_count": 2,
   "metadata": {},
   "outputs": [],
   "source": [
    "#variables and speficicatons\n",
    "\n",
    "headers = list(data)\n",
    "Y = headers[0]\n",
    "XX = headers[1:]\n",
    "\n"
   ]
  },
  {
   "cell_type": "code",
   "execution_count": null,
   "metadata": {},
   "outputs": [],
   "source": [
    "## exhaustive search - Brute Force. create class here\n",
    "\n",
    "class BruteForce: \n",
    "    \n",
    "    def __init__(self, Y, X, data):\n",
    "        self.Y = Y\n",
    "        self.X = X\n",
    "        self.data = data\n",
    "   \n",
    "    def powerset(self, X):\n",
    "        target = []\n",
    "        def combinations(target,X):\n",
    "            for i in range(len(X)):\n",
    "                new_target = copy.copy(target)\n",
    "                new_data = copy.copy(X)\n",
    "                new_target.append(X[i])\n",
    "                new_data = X[i+1:]\n",
    "                pp.append(new_target)\n",
    "                #print(new_target)\n",
    "                combinations(new_target,new_data)\n",
    "        pp = []\n",
    "        combinations(target, X)\n",
    "        return pp\n",
    "    \n",
    "    def regress(self, X, Y, data):\n",
    "        regressor = LinearRegression()\n",
    "        R = regressor.fit(data[X],data[Y])  \n",
    "        s = regressor.score(data[X], data[Y])\n",
    "        return (s) \n",
    "    \n",
    "    def search(self):\n",
    "        solutions = []\n",
    "        combos = self.powerset(self.X)\n",
    "        for i in combos:\n",
    "            solutions.append(self.regress(i, self.Y, self.data))  \n",
    "        return solutions, combos\n",
    "    \n",
    "    def solve(self):\n",
    "        sol, combos = self.search()\n",
    "        highest_R2 = combos[np.argmax(sol)]\n",
    "        R2 = max(sol)\n",
    "        \n",
    "        print(\"higehst R^2 is\", R2, \"with dependant variables:\", highest_R2)\n",
    "        return highest_R2\n",
    "        \n",
    "                 "
   ]
  },
  {
   "cell_type": "code",
   "execution_count": null,
   "metadata": {},
   "outputs": [],
   "source": [
    "#t = BruteForce(Y,X,data).solve()\n"
   ]
  },
  {
   "cell_type": "code",
   "execution_count": 6,
   "metadata": {},
   "outputs": [],
   "source": [
    "bankdata = pd.read_csv(\"/Users/geoffreykasenbacher/Downloads/bank/bank.csv\", sep = \";\")"
   ]
  },
  {
   "cell_type": "code",
   "execution_count": 7,
   "metadata": {},
   "outputs": [],
   "source": [
    "banklist = list(bankdata)\n",
    "bankdata1 = bankdata[banklist[:3]]"
   ]
  },
  {
   "cell_type": "code",
   "execution_count": 8,
   "metadata": {},
   "outputs": [],
   "source": [
    "bb = pd.get_dummies( bankdata1 )\n",
    "bblist = list(bb)\n",
    "#print(bb)\n",
    "\n",
    "\n",
    "Y = bblist[0]\n",
    "X = bblist[1:]\n",
    "\n",
    "#best = BruteForce(Y,X,bb).solve()"
   ]
  },
  {
   "cell_type": "code",
   "execution_count": null,
   "metadata": {},
   "outputs": [],
   "source": []
  },
  {
   "cell_type": "code",
   "execution_count": null,
   "metadata": {},
   "outputs": [],
   "source": []
  },
  {
   "cell_type": "code",
   "execution_count": 17,
   "metadata": {},
   "outputs": [
    {
     "data": {
      "text/plain": [
       "'def powerset(X):\\n    target = []\\n    def combinations(target,X):\\n        for i in range(len(X)):\\n            new_target = copy.copy(target)\\n            new_data = copy.copy(X)\\n            new_target.append(X[i])\\n            new_data = X[i+1:]\\n            pp.append(new_target)\\n            #print(new_target)\\n            combinations(new_target,new_data)\\n    pp = []\\n    combinations(target, X)\\n    return pp'"
      ]
     },
     "execution_count": 17,
     "metadata": {},
     "output_type": "execute_result"
    }
   ],
   "source": [
    "\"\"\"def powerset(X):\n",
    "    target = []\n",
    "    def combinations(target,X):\n",
    "        for i in range(len(X)):\n",
    "            new_target = copy.copy(target)\n",
    "            new_data = copy.copy(X)\n",
    "            new_target.append(X[i])\n",
    "            new_data = X[i+1:]\n",
    "            pp.append(new_target)\n",
    "            #print(new_target)\n",
    "            combinations(new_target,new_data)\n",
    "    pp = []\n",
    "    combinations(target, X)\n",
    "    return pp\"\"\""
   ]
  },
  {
   "cell_type": "code",
   "execution_count": 18,
   "metadata": {},
   "outputs": [
    {
     "data": {
      "text/plain": [
       "'def assign():\\n    dic = {}\\n    for i in XX:\\n        Y = i\\n        #X = [x for x in XX if x != Y]\\n        X = powerset([x for x in XX if x != Y])\\n        dic[Y] = X\\n        print(Y,X)\\n    return dic\\n'"
      ]
     },
     "execution_count": 18,
     "metadata": {},
     "output_type": "execute_result"
    }
   ],
   "source": [
    "\"\"\"def assign():\n",
    "    dic = {}\n",
    "    for i in XX:\n",
    "        Y = i\n",
    "        #X = [x for x in XX if x != Y]\n",
    "        X = powerset([x for x in XX if x != Y])\n",
    "        dic[Y] = X\n",
    "        print(Y,X)\n",
    "    return dic\n",
    "\"\"\""
   ]
  },
  {
   "cell_type": "code",
   "execution_count": 19,
   "metadata": {},
   "outputs": [
    {
     "data": {
      "text/plain": [
       "'def search(self):\\n    dics = assign()\\n    solutions = {}\\n    \\n    for i in dics:\\n        combos = dics\\n    \\n    combos = self.powerset(self.X)\\n    for i in combos:\\n        solutions.append(self.regress(i, self.Y, self.data))  \\n    return solutions, combos'"
      ]
     },
     "execution_count": 19,
     "metadata": {},
     "output_type": "execute_result"
    }
   ],
   "source": [
    "\"\"\"def search(self):\n",
    "    dics = assign()\n",
    "    solutions = {}\n",
    "    \n",
    "    for i in dics:\n",
    "        combos = dics\n",
    "    \n",
    "    combos = self.powerset(self.X)\n",
    "    for i in combos:\n",
    "        solutions.append(self.regress(i, self.Y, self.data))  \n",
    "    return solutions, combos\"\"\""
   ]
  },
  {
   "cell_type": "code",
   "execution_count": 20,
   "metadata": {},
   "outputs": [
    {
     "data": {
      "text/plain": [
       "'for i in dic:\\n    print(i)\\n    \\ndef regress( X, Y, data):\\n    regressor = LinearRegression()\\n    R = regressor.fit(data[X],data[Y])  \\n    s = regressor.score(data[X], data[Y])\\n    return (s)'"
      ]
     },
     "execution_count": 20,
     "metadata": {},
     "output_type": "execute_result"
    }
   ],
   "source": [
    "\"\"\"for i in dic:\n",
    "    print(i)\n",
    "    \n",
    "def regress( X, Y, data):\n",
    "    regressor = LinearRegression()\n",
    "    R = regressor.fit(data[X],data[Y])  \n",
    "    s = regressor.score(data[X], data[Y])\n",
    "    return (s)\"\"\""
   ]
  },
  {
   "cell_type": "code",
   "execution_count": 21,
   "metadata": {},
   "outputs": [
    {
     "data": {
      "text/plain": [
       "'solutions = []\\nnewdic = {}\\nfor y in dic:\\n    #solutions = []\\n    for x in dic[y]:\\n        solutions.append(regress(x, y, data))\\n        newdic[regress(x, y, data)] = y, x\\n        #newdic[y,x] = regress(x, y, data)\\n        \\n        #print(x)\\n    #print(dic[i])\\n'"
      ]
     },
     "execution_count": 21,
     "metadata": {},
     "output_type": "execute_result"
    }
   ],
   "source": [
    "\"\"\"solutions = []\n",
    "newdic = {}\n",
    "for y in dic:\n",
    "    #solutions = []\n",
    "    for x in dic[y]:\n",
    "        solutions.append(regress(x, y, data))\n",
    "        newdic[regress(x, y, data)] = y, x\n",
    "        #newdic[y,x] = regress(x, y, data)\n",
    "        \n",
    "        #print(x)\n",
    "    #print(dic[i])\n",
    "\"\"\""
   ]
  },
  {
   "cell_type": "code",
   "execution_count": 23,
   "metadata": {},
   "outputs": [
    {
     "data": {
      "text/plain": [
       "'\\n\\nfor y in dic:\\n    for x in dic[i]:\\n        print(x)\\n'"
      ]
     },
     "execution_count": 23,
     "metadata": {},
     "output_type": "execute_result"
    }
   ],
   "source": [
    "\"\"\"\n",
    "\n",
    "for y in dic:\n",
    "    for x in dic[i]:\n",
    "        print(x)\n",
    "\"\"\"\n"
   ]
  },
  {
   "cell_type": "code",
   "execution_count": 24,
   "metadata": {},
   "outputs": [],
   "source": [
    "## this will solve all possible linear regressions and return the one with highest R^2\n",
    "\n",
    "class exhaustivesearch: \n",
    "    \n",
    "    def __init__(self, data):\n",
    "        self.data = data\n",
    "        \n",
    "    def assign(self):\n",
    "        XX = list(self.data)\n",
    "        dic = {}\n",
    "        \n",
    "        for i in XX:\n",
    "            Y = i\n",
    "            X = self.powerset([x for x in XX if x != Y])\n",
    "            dic[Y] = X\n",
    "            #print(Y,X)\n",
    "        return dic\n",
    "\n",
    "    def powerset(self, X):\n",
    "        target = []\n",
    "        def combinations(target,X):\n",
    "            for i in range(len(X)):\n",
    "                new_target = copy.copy(target)\n",
    "                new_data = copy.copy(X)\n",
    "                new_target.append(X[i])\n",
    "                new_data = X[i+1:]\n",
    "                pp.append(new_target)\n",
    "                #print(new_target)\n",
    "                combinations(new_target,new_data)\n",
    "        pp = []\n",
    "        combinations(target, X)\n",
    "        return pp\n",
    "    \n",
    "    def regress(self, X, Y, data):\n",
    "        regressor = LinearRegression()\n",
    "        R = regressor.fit(data[X],data[Y])  \n",
    "        s = regressor.score(data[X], data[Y])\n",
    "        return (s) \n",
    "    \n",
    "    def search(self):\n",
    "        dic = self.assign()\n",
    "        newdic = {}\n",
    "        for y in dic:\n",
    "            #solutions = []\n",
    "            for x in dic[y]:\n",
    "                #solutions.append(regress(x, y, data))\n",
    "                newdic[self.regress(x, y, data)] = y, x\n",
    "        new={}\n",
    "        sd = sorted(newdic.items(), reverse=True)\n",
    "        for k,v in sd:\n",
    "            new[k] = v\n",
    "        return new\n",
    "\n",
    "    def solve(self):\n",
    "        results = self.search()\n",
    "        highest_R2 = list(results.keys())[0]\n",
    "        best_vars = results[highest_R2]\n",
    "        \n",
    "        print(\"higehst R^2 is\", highest_R2, \"with dependant variables:\", best_vars)\n",
    "        return highest_R2"
   ]
  },
  {
   "cell_type": "code",
   "execution_count": 25,
   "metadata": {},
   "outputs": [
    {
     "name": "stdout",
     "output_type": "stream",
     "text": [
      "higehst R^2 is 0.2968502113618645 with dependant variables: ('INCOME', ['VIOLENCE', 'SEX', 'EDUCATION', 'AGE', 'LOCATION'])\n"
     ]
    }
   ],
   "source": [
    "wow = exhaustivesearch(data).solve()"
   ]
  },
  {
   "cell_type": "code",
   "execution_count": 26,
   "metadata": {},
   "outputs": [
    {
     "name": "stdout",
     "output_type": "stream",
     "text": [
      "    VIOLENCE  SEX  INCOME  EDUCATION   AGE  LOCATION\n",
      "0        4.0  0.0     5.0        1.0   7.0      12.0\n",
      "1        9.0  0.0     5.0        3.0  45.0      12.0\n",
      "2        6.0  1.0     2.0        1.0  20.0       2.0\n",
      "3        5.0  1.0     1.0        1.0  35.0      10.0\n",
      "4        3.0  1.0     2.0        2.0  53.0       7.0\n",
      "5        9.0  0.0     3.0        3.0  20.0       3.0\n",
      "6        6.0  1.0     3.0        0.0  19.0       2.0\n",
      "7        2.0  1.0     0.0        3.0  30.0       8.0\n",
      "8        6.0  1.0     4.0        0.0  37.0      11.0\n",
      "9        4.0  0.0     6.0        2.0  29.0       1.0\n",
      "10       2.0  0.0     4.0        0.0  25.0       5.0\n",
      "11       8.0  0.0     6.0        2.0  63.0      12.0\n",
      "12       7.0  1.0     2.0        2.0  49.0       6.0\n",
      "13       5.0  0.0     5.0        2.0  40.0      10.0\n",
      "14       9.0  1.0     2.0        0.0   8.0      15.0\n",
      "15       4.0  1.0     5.0        1.0  14.0      12.0\n",
      "16       6.0  0.0     2.0        3.0  32.0       9.0\n",
      "17       7.0  1.0     0.0        1.0  32.0      13.0\n",
      "18      10.0  1.0     2.0        0.0  39.0       4.0\n",
      "19       3.0  0.0     4.0        2.0  29.0      10.0\n",
      "20       8.0  0.0     1.0        2.0  54.0      11.0\n",
      "21      10.0  0.0     4.0        0.0  21.0       9.0\n",
      "22       7.0  1.0     4.0        2.0  36.0       2.0\n",
      "23       1.0  1.0     5.0        0.0  32.0       2.0\n",
      "24       4.0  0.0     3.0        1.0   7.0      14.0\n",
      "25       6.0  0.0     2.0        1.0  42.0       6.0\n",
      "26       7.0  1.0     0.0        1.0  50.0       8.0\n",
      "27       4.0  1.0     0.0        3.0  42.0       7.0\n",
      "28       2.0  0.0     4.0        2.0   4.0       5.0\n",
      "29       6.0  0.0     4.0        0.0  50.0      11.0\n",
      "30       9.0  1.0     0.0        2.0  18.0       8.0\n",
      "31       5.0  0.0     3.0        1.0  64.0       4.0\n",
      "32       3.0  0.0     1.0        3.0  13.0      14.0\n",
      "33       8.0  1.0     1.0        3.0  41.0      15.0\n",
      "34       3.0  1.0     5.0        1.0  26.0       6.0\n",
      "35       2.0  0.0     0.0        2.0  62.0      14.0\n",
      "36       9.0  1.0     6.0        1.0   5.0       7.0\n",
      "37       9.0  1.0     2.0        3.0   4.0      14.0\n",
      "38       3.0  1.0     1.0        2.0  14.0      13.0\n"
     ]
    }
   ],
   "source": [
    "print(data)"
   ]
  },
  {
   "cell_type": "code",
   "execution_count": null,
   "metadata": {},
   "outputs": [],
   "source": []
  }
 ],
 "metadata": {
  "kernelspec": {
   "display_name": "Python 3",
   "language": "python",
   "name": "python3"
  },
  "language_info": {
   "codemirror_mode": {
    "name": "ipython",
    "version": 3
   },
   "file_extension": ".py",
   "mimetype": "text/x-python",
   "name": "python",
   "nbconvert_exporter": "python",
   "pygments_lexer": "ipython3",
   "version": "3.6.4"
  }
 },
 "nbformat": 4,
 "nbformat_minor": 2
}

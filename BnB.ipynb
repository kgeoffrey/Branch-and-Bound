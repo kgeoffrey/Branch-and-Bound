{
 "cells": [
  {
   "cell_type": "code",
   "execution_count": 126,
   "metadata": {},
   "outputs": [],
   "source": [
    "##Brute-Force, Exhaustive Search and Branch&Bound!\n",
    "\n",
    "import pandas as pd\n",
    "import statsmodels.formula.api as smf\n",
    "import numpy as np\n",
    "import scipy.stats\n",
    "from scipy.stats import norm\n",
    "from sklearn.linear_model import LinearRegression  \n",
    "import itertools\n",
    "import copy\n",
    "import warnings"
   ]
  },
  {
   "cell_type": "code",
   "execution_count": 19,
   "metadata": {},
   "outputs": [],
   "source": [
    "## Get Data as a Pandas Dataframe! Make sure to have numerical data only! (pd.get_dummies might help)\n",
    "\n",
    "file =\"C:/Users/Praktikant1/Downloads/nuclear.csv\"\n",
    "\n",
    "data1 = pd.read_csv(file,sep=\",\").astype(float) #.drop(data.columns[1], axis=1)\n",
    "data = data1.drop(data1.columns[0], axis=1)\n",
    "\n",
    "#Y = list(data)[0]\n",
    "#X = list(data)[1:]\n",
    "\n",
    "#print(data)"
   ]
  },
  {
   "cell_type": "code",
   "execution_count": null,
   "metadata": {},
   "outputs": [],
   "source": [
    "## exhaustive search - Brute Force. create class here\n",
    "\n",
    "class BruteForce: \n",
    "    \n",
    "    def __init__(self, Y, X, data):\n",
    "        self.Y = Y\n",
    "        self.X = X\n",
    "        self.data = data\n",
    "   \n",
    "    def powerset(self, X):\n",
    "        target = []\n",
    "        def combinations(target,X):\n",
    "            for i in range(len(X)):\n",
    "                new_target = copy.copy(target)\n",
    "                new_data = copy.copy(X)\n",
    "                new_target.append(X[i])\n",
    "                new_data = X[i+1:]\n",
    "                pp.append(new_target)\n",
    "                #print(new_target)\n",
    "                combinations(new_target,new_data)\n",
    "        pp = []\n",
    "        combinations(target, X)\n",
    "        return pp\n",
    "    \n",
    "    def regress(self, X, Y, data):\n",
    "        regressor = LinearRegression()\n",
    "        R = regressor.fit(data[X],data[Y])  \n",
    "        \n",
    "        #returns R^2\n",
    "        s = regressor.score(data[X], data[Y])\n",
    "        \n",
    "        # Calculates adjusted R^2\n",
    "        n = len(data)\n",
    "        k = len(self.X)\n",
    "        adj_r2 = 1 - (( (1-r2)*(n-1) )/ (n - k -1))\n",
    "        \n",
    "        return (s) \n",
    "    \n",
    "    def search(self):\n",
    "        solutions = []\n",
    "        combos = self.powerset(self.X)\n",
    "        for i in combos:\n",
    "            solutions.append(self.regress(i, self.Y, self.data))  \n",
    "        return solutions, combos\n",
    "    \n",
    "    def solve(self):\n",
    "        sol, combos = self.search()\n",
    "        highest_R2 = combos[np.argmax(sol)]\n",
    "        R2 = max(sol)\n",
    "        \n",
    "        print(\"higehst R^2 is\", R2, \"with dependant variables:\", highest_R2)\n",
    "        return highest_R2, R2     "
   ]
  },
  {
   "cell_type": "code",
   "execution_count": null,
   "metadata": {},
   "outputs": [],
   "source": [
    "t, r2 = BruteForce(Y,X,data).solve()\n",
    "\n",
    "print(len(list(data)))"
   ]
  },
  {
   "cell_type": "code",
   "execution_count": 149,
   "metadata": {},
   "outputs": [],
   "source": [
    "## this will solve all possible linear regressions and return the one with highest R^2\n",
    "\n",
    "class ExhaustiveSearch: \n",
    "    \n",
    "    def __init__(self, data, lowerbound, upperbound, adjusted_R2):\n",
    "        self.data = data\n",
    "        self.lowerbound = lowerbound\n",
    "        self.upperbound = upperbound\n",
    "        self.adjusted_R2 = adjusted_R2\n",
    "        \n",
    "        ## Raising Expections and Warnings here\n",
    "        if len(list(self.data)) >= 15:\n",
    "            warnings.warn(\"Dear fellow Caveman, surely you are aware that your dataset exceeds 15 variables and may take a looong time to compute if no bounds are specified, consider setting reasonable bounds to find a quick solution! :-)\", Warning)\n",
    "        if str(type(self.data))  != \"<class 'pandas.core.frame.DataFrame'>\":\n",
    "            raise TypeError(\"Input data must be of type pandas Dataframe ( ་ ⍸ ་ )\") \n",
    "        if type(self.lowerbound) and type(self.upperbound) != int:\n",
    "            raise TypeError(\"Bounds must be integers! ಠ_๏\") \n",
    "    \n",
    "    def subset(self, X):\n",
    "        _set = self.powerset(X)\n",
    "        subset = []\n",
    "        for i in _set:\n",
    "            if self.upperbound >= len(i) >= self.lowerbound:\n",
    "                subset.append(i)\n",
    "        return subset\n",
    "        \n",
    "    def assign(self):\n",
    "        XX = list(self.data)\n",
    "        dic = {}\n",
    "        for i in XX:\n",
    "            Y = i\n",
    "            #X = self.powerset([x for x in XX if x != Y])\n",
    "            X = self.subset([x for x in XX if x != Y])\n",
    "            dic[Y] = X\n",
    "        return dic\n",
    "\n",
    "    def powerset(self, X):\n",
    "        target = []\n",
    "        def combinations(target,X):\n",
    "            for i in range(len(X)):\n",
    "                new_target = copy.copy(target)\n",
    "                new_data = copy.copy(X)\n",
    "                new_target.append(X[i])\n",
    "                new_data = X[i+1:]\n",
    "                pp.append(new_target)\n",
    "                combinations(new_target,new_data)\n",
    "        pp = []\n",
    "        combinations(target, X)\n",
    "        return pp\n",
    "    \n",
    "    def regress(self, X, Y, data):\n",
    "        regressor = LinearRegression()\n",
    "        R = regressor.fit(self.data[X],self.data[Y])\n",
    "        \n",
    "        #returns R^2\n",
    "        r2 = regressor.score(self.data[X], self.data[Y])\n",
    "        \n",
    "        #returns Adjusted R^2 \n",
    "        n = len(self.data)\n",
    "        k = len(list(self.data[X]))\n",
    "        adj_r2 = (1 - ( ((1 - r2)*(n - 1))/(n - k - 1) ))\n",
    "        \n",
    "        if self.adjusted_R2 == True:\n",
    "            return adj_r2\n",
    "        elif self.adjusted_R2 == False:\n",
    "            return r2\n",
    "        else:\n",
    "            raise ValueError(\"adjusted_r2 needs to be boolean: True or False (ノಠ益ಠ)ノ\")\n",
    "    \n",
    "    def search(self):\n",
    "        dic = self.assign()\n",
    "        newdic = {}\n",
    "        for y in dic:\n",
    "            for x in dic[y]:\n",
    "                newdic[self.regress(x, y, data)] = y, x\n",
    "        new={}\n",
    "        sd = sorted(newdic.items(), reverse=True)\n",
    "        for k,v in sd:\n",
    "            new[k] = v\n",
    "        return new\n",
    "    \n",
    "    def solve(self):\n",
    "        results = self.search()\n",
    "        highest_R2 = list(results.keys())[0]\n",
    "        best_vars = results[highest_R2]\n",
    "        \n",
    "        print(\"highest R^2 is\", highest_R2, \"with dependant/indepedant variables:\", best_vars)\n",
    "        return results"
   ]
  },
  {
   "cell_type": "code",
   "execution_count": 150,
   "metadata": {},
   "outputs": [
    {
     "name": "stdout",
     "output_type": "stream",
     "text": [
      "highest R^2 is 0.7823640370462159 with dependant/indepedant variables: ('date', ['cost', 't1'])\n"
     ]
    }
   ],
   "source": [
    "wow = ExhaustiveSearch(data = data, lowerbound = 1, upperbound = 2, adjusted_R2 = True).solve()"
   ]
  },
  {
   "cell_type": "code",
   "execution_count": 125,
   "metadata": {},
   "outputs": [],
   "source": [
    "## Next feature: restricting size, upper and lower bounds for model size!\n",
    "\n",
    "# wow = exhaustive_search(data = data, R^2 = adj, exp_var = 5, lower_bound = 3, upper_bound = 7).solve()\n",
    "#print(wow)"
   ]
  },
  {
   "cell_type": "code",
   "execution_count": 116,
   "metadata": {},
   "outputs": [],
   "source": [
    "## compute adjusted R2 \n",
    "def adj_r2(r2, data, X):\n",
    "    n = len(data)\n",
    "    k = len(X)\n",
    "    adj_r2 = 1 - (( (1-r2)*(n-1) )/ (n - k -1))\n",
    "    \n",
    "    return adj_r2"
   ]
  },
  {
   "cell_type": "code",
   "execution_count": null,
   "metadata": {},
   "outputs": [],
   "source": []
  },
  {
   "cell_type": "code",
   "execution_count": null,
   "metadata": {},
   "outputs": [],
   "source": []
  },
  {
   "cell_type": "code",
   "execution_count": null,
   "metadata": {},
   "outputs": [],
   "source": []
  },
  {
   "cell_type": "code",
   "execution_count": null,
   "metadata": {},
   "outputs": [],
   "source": []
  },
  {
   "cell_type": "code",
   "execution_count": null,
   "metadata": {},
   "outputs": [],
   "source": []
  },
  {
   "cell_type": "code",
   "execution_count": null,
   "metadata": {},
   "outputs": [],
   "source": []
  }
 ],
 "metadata": {
  "kernelspec": {
   "display_name": "Python 3",
   "language": "python",
   "name": "python3"
  },
  "language_info": {
   "codemirror_mode": {
    "name": "ipython",
    "version": 3
   },
   "file_extension": ".py",
   "mimetype": "text/x-python",
   "name": "python",
   "nbconvert_exporter": "python",
   "pygments_lexer": "ipython3",
   "version": "3.6.5"
  }
 },
 "nbformat": 4,
 "nbformat_minor": 2
}
